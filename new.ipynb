{
 "cells": [
  {
   "cell_type": "markdown",
   "metadata": {},
   "source": [
    "큰 제목\n",
    "==="
   ]
  },
  {
   "cell_type": "code",
   "execution_count": null,
   "metadata": {
    "vscode": {
     "languageId": "plaintext"
    }
   },
   "outputs": [],
   "source": [
    "asdasdasdasdasd"
   ]
  },
  {
   "cell_type": "markdown",
   "metadata": {},
   "source": [
    "작은 제목\n",
    "---\n",
    "# 1. 목록\n",
    "## 2. 목록\n",
    "### 3. 목록\n",
    "##### 5. 목록\n",
    "###### 6. 목록\n",
    "####### 8. 목록\n",
    "7개는 안됨(샾 개수)\n"
   ]
  },
  {
   "cell_type": "markdown",
   "metadata": {},
   "source": [
    "1. 아\n",
    "8. 주\n",
    "3. 마\n",
    "자동 정렬 됨 ( 1, 2, 3)\n",
    "정렬 x -> - ,+ ,*\n",
    "들여쓰기 스페이스 두번\n",
    "* 1st\n",
    "  * 2nd\n",
    "    - 3\n",
    "  \n",
    "* 2nd    "
   ]
  },
  {
   "cell_type": "markdown",
   "metadata": {},
   "source": [
    "코드 \n",
    "===\n",
    "```python\n",
    "class Myclass():\n",
    "   def __init__():\n",
    "      pass\n",
    "```"
   ]
  },
  {
   "cell_type": "markdown",
   "metadata": {},
   "source": [
    "링크\n",
    "===\n",
    "링크 = [구글](www.~~~)\n",
    "링크: 구글\n",
    "구글: www.~~~"
   ]
  },
  {
   "cell_type": "markdown",
   "metadata": {},
   "source": []
  },
  {
   "cell_type": "markdown",
   "metadata": {},
   "source": [
    "커밋 수정 확인\n",
    "==="
   ]
  },
  {
   "cell_type": "markdown",
   "metadata": {},
   "source": [
    "아ㅏㅏㅏㅏㅏ"
   ]
  },
  {
   "cell_type": "markdown",
   "metadata": {},
   "source": []
  }
 ],
 "metadata": {
  "kernelspec": {
   "display_name": "Python 3.7.13 ('test1')",
   "language": "python",
   "name": "python3"
  },
  "language_info": {
   "codemirror_mode": {
    "name": "ipython",
    "version": 3
   },
   "file_extension": ".py",
   "mimetype": "text/x-python",
   "name": "python",
   "nbconvert_exporter": "python",
   "pygments_lexer": "ipython3",
   "version": "3.7.13"
  },
  "orig_nbformat": 4,
  "vscode": {
   "interpreter": {
    "hash": "b13f4ae3239f8fea85cb6592c1c67c147ee4165ea066f9c5be2048ef0a47e0cb"
   }
  }
 },
 "nbformat": 4,
 "nbformat_minor": 2
}
